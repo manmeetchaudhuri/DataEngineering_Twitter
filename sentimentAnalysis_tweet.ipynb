{
 "cells": [
  {
   "cell_type": "code",
   "execution_count": null,
   "metadata": {},
   "outputs": [],
   "source": [
    "from pymongo import MongoClient\n",
    "import pandas as pd\n",
    "import json\n",
    "from textblob import TextBlob\n",
    "from bson.json_util import dumps\n",
    "#from bson import json_util, ObjectId\n",
    "#from pandas.io.json import json_normalize\n",
    "#import re"
   ]
  },
  {
   "cell_type": "code",
   "execution_count": null,
   "metadata": {},
   "outputs": [],
   "source": [
    "#Connect to Mongo database \n",
    "connection=MongoClient(\"mongodb://localhost:27017/\")\n",
    "\n",
    "db=connection.trump\n",
    "\n",
    "names=db.trump\n",
    "\n",
    "mongo_data = names.find()\n",
    "\n",
    "sanitized = json.loads(json_util.dumps(mongo_data))\n",
    "\n",
    "for i in sanitized:\n",
    "\n",
    "# pass tweet into TextBlob\n",
    "    tweet = TextBlob(i[\"text\"])\n",
    "    print(tweet)\n",
    "\n",
    "# output sentiment polarity\n",
    "    print(tweet.sentiment.polarity)\n",
    "\n",
    "# determine if sentiment is positive, negative, or neutral\n",
    "    if tweet.sentiment.polarity < 0:\n",
    "      sentiment = \"negative\"\n",
    "    elif tweet.sentiment.polarity == 0:\n",
    "        sentiment = \"neutral\"\n",
    "    else:\n",
    "      sentiment = \"positive\""
   ]
  },
  {
   "cell_type": "code",
   "execution_count": null,
   "metadata": {},
   "outputs": [],
   "source": []
  }
 ],
 "metadata": {
  "kernelspec": {
   "display_name": "Python 3",
   "language": "python",
   "name": "python3"
  },
  "language_info": {
   "codemirror_mode": {
    "name": "ipython",
    "version": 3
   },
   "file_extension": ".py",
   "mimetype": "text/x-python",
   "name": "python",
   "nbconvert_exporter": "python",
   "pygments_lexer": "ipython3",
   "version": "3.7.3"
  }
 },
 "nbformat": 4,
 "nbformat_minor": 2
}
