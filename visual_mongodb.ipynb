{
 "cells": [
  {
   "cell_type": "code",
   "execution_count": 1,
   "metadata": {},
   "outputs": [],
   "source": [
    "import numpy as np\n",
    "import pandas as pd\n",
    "import re\n",
    "import warnings\n",
    "import pymongo\n",
    "from pymongo import MongoClient"
   ]
  },
  {
   "cell_type": "code",
   "execution_count": 2,
   "metadata": {},
   "outputs": [],
   "source": [
    "myclient = MongoClient(\"mongodb://localhost:27017/\")\n",
    "mydb = myclient[\"brexit\"]\n",
    "tweets = mydb[\"brexit\"]"
   ]
  },
  {
   "cell_type": "code",
   "execution_count": 5,
   "metadata": {},
   "outputs": [],
   "source": [
    "cursor=tweets.aggregate([\n",
    "  {\"$group\":{\"_id\": \"$lang\", \"count\": {\"$sum\": 1}}},\n",
    "  {\"$sort\":{\"count\": -1}},\n",
    "  { \"$limit\": 10 }\n",
    "])\n",
    "#print(list(cursor))"
   ]
  },
  {
   "cell_type": "code",
   "execution_count": 6,
   "metadata": {},
   "outputs": [
    {
     "data": {
      "text/plain": [
       "Text(0.5,0,'Language')"
      ]
     },
     "execution_count": 6,
     "metadata": {},
     "output_type": "execute_result"
    },
    {
     "data": {
      "image/png": "[encoded data removed]",
      "text/plain": [
       "<Figure size 432x288 with 1 Axes>"
      ]
     },
     "metadata": {},
     "output_type": "display_data"
    }
   ],
   "source": [
    "#1.Top 10 languages used by Twitter users for topic related to “trump”\n",
    "import matplotlib.pyplot as plt\n",
    "dfr=pd.DataFrame.from_records(cursor)\n",
    "plot1=dfr.plot(x=\"_id\", y=\"count\", kind=\"bar\")\n",
    "plot1.xaxis.set_label_text(\"Language\")"
   ]
  },
  {
   "cell_type": "code",
   "execution_count": 7,
   "metadata": {},
   "outputs": [],
   "source": [
    "#2.Top 10 hashtags used by Twitter users for topic related to “trump”\n",
    "cursor1=tweets.aggregate([ \n",
    "{\"$unwind\": \"$entities.hashtags\"}, \n",
    "{ \"$group\": { \n",
    "\"_id\": \"$entities.hashtags.text\", \n",
    "\"tagCount\": {\"$sum\": 1} \n",
    "}}, \n",
    "{ \"$sort\": { \n",
    "\"tagCount\": -1 \n",
    "}}, \n",
    "{ \"$limit\": 10 }\n",
    "])\n",
    "#print(list(cursor1))"
   ]
  },
  {
   "cell_type": "code",
   "execution_count": 8,
   "metadata": {},
   "outputs": [
    {
     "data": {
      "text/html": [
       "<div>\n",
       "<style scoped>\n",
       "    .dataframe tbody tr th:only-of-type {\n",
       "        vertical-align: middle;\n",
       "    }\n",
       "\n",
       "    .dataframe tbody tr th {\n",
       "        vertical-align: top;\n",
       "    }\n",
       "\n",
       "    .dataframe thead th {\n",
       "        text-align: right;\n",
       "    }\n",
       "</style>\n",
       "<table border=\"1\" class=\"dataframe\">\n",
       "  <thead>\n",
       "    <tr style=\"text-align: right;\">\n",
       "      <th></th>\n",
       "      <th>_id</th>\n",
       "      <th>tagCount</th>\n",
       "    </tr>\n",
       "  </thead>\n",
       "  <tbody>\n",
       "    <tr>\n",
       "      <th>0</th>\n",
       "      <td>BTS</td>\n",
       "      <td>384</td>\n",
       "    </tr>\n",
       "    <tr>\n",
       "      <th>1</th>\n",
       "      <td>오늘의방탄</td>\n",
       "      <td>242</td>\n",
       "    </tr>\n",
       "    <tr>\n",
       "      <th>2</th>\n",
       "      <td>방탄소년단</td>\n",
       "      <td>236</td>\n",
       "    </tr>\n",
       "    <tr>\n",
       "      <th>3</th>\n",
       "      <td>나고야2회차공연</td>\n",
       "      <td>235</td>\n",
       "    </tr>\n",
       "    <tr>\n",
       "      <th>4</th>\n",
       "      <td>WayV</td>\n",
       "      <td>174</td>\n",
       "    </tr>\n",
       "    <tr>\n",
       "      <th>5</th>\n",
       "      <td>WeiShenV</td>\n",
       "      <td>169</td>\n",
       "    </tr>\n",
       "    <tr>\n",
       "      <th>6</th>\n",
       "      <td>威神V</td>\n",
       "      <td>165</td>\n",
       "    </tr>\n",
       "    <tr>\n",
       "      <th>7</th>\n",
       "      <td>JIMIN</td>\n",
       "      <td>113</td>\n",
       "    </tr>\n",
       "    <tr>\n",
       "      <th>8</th>\n",
       "      <td>지민</td>\n",
       "      <td>92</td>\n",
       "    </tr>\n",
       "    <tr>\n",
       "      <th>9</th>\n",
       "      <td>TEN</td>\n",
       "      <td>85</td>\n",
       "    </tr>\n",
       "  </tbody>\n",
       "</table>\n",
       "</div>"
      ],
      "text/plain": [
       "        _id  tagCount\n",
       "0       BTS       384\n",
       "1     오늘의방탄       242\n",
       "2     방탄소년단       236\n",
       "3  나고야2회차공연       235\n",
       "4      WayV       174\n",
       "5  WeiShenV       169\n",
       "6       威神V       165\n",
       "7     JIMIN       113\n",
       "8        지민        92\n",
       "9       TEN        85"
      ]
     },
     "execution_count": 8,
     "metadata": {},
     "output_type": "execute_result"
    }
   ],
   "source": [
    "dfr2=pd.DataFrame.from_records(cursor1)\n",
    "dfr2"
   ]
  },
  {
   "cell_type": "code",
   "execution_count": 9,
   "metadata": {},
   "outputs": [],
   "source": [
    "#3.Top 10 user countries with the greatest number of followers\n",
    "cursor2=tweets.aggregate([\n",
    "    {\"$group\":{\"_id\": \"$place.country\", \"total_followers\":{\"$sum\":\"$user.followers_count\"}}},\n",
    "    {\"$sort\":{\"total_followers\": -1}},\n",
    "    { \"$limit\": 11 }\n",
    "])\n",
    "#print(list(cursor2))"
   ]
  },
  {
   "cell_type": "code",
   "execution_count": 10,
   "metadata": {},
   "outputs": [
    {
     "data": {
      "text/html": [
       "<div>\n",
       "<style scoped>\n",
       "    .dataframe tbody tr th:only-of-type {\n",
       "        vertical-align: middle;\n",
       "    }\n",
       "\n",
       "    .dataframe tbody tr th {\n",
       "        vertical-align: top;\n",
       "    }\n",
       "\n",
       "    .dataframe thead th {\n",
       "        text-align: right;\n",
       "    }\n",
       "</style>\n",
       "<table border=\"1\" class=\"dataframe\">\n",
       "  <thead>\n",
       "    <tr style=\"text-align: right;\">\n",
       "      <th></th>\n",
       "      <th>_id</th>\n",
       "      <th>total_followers</th>\n",
       "    </tr>\n",
       "  </thead>\n",
       "  <tbody>\n",
       "    <tr>\n",
       "      <th>1</th>\n",
       "      <td>Ecuador</td>\n",
       "      <td>120015</td>\n",
       "    </tr>\n",
       "    <tr>\n",
       "      <th>2</th>\n",
       "      <td>Ελλάς</td>\n",
       "      <td>70331</td>\n",
       "    </tr>\n",
       "    <tr>\n",
       "      <th>3</th>\n",
       "      <td>United Kingdom</td>\n",
       "      <td>43894</td>\n",
       "    </tr>\n",
       "    <tr>\n",
       "      <th>4</th>\n",
       "      <td>France</td>\n",
       "      <td>19306</td>\n",
       "    </tr>\n",
       "    <tr>\n",
       "      <th>5</th>\n",
       "      <td>Australia</td>\n",
       "      <td>11916</td>\n",
       "    </tr>\n",
       "    <tr>\n",
       "      <th>6</th>\n",
       "      <td>Brasil</td>\n",
       "      <td>10001</td>\n",
       "    </tr>\n",
       "    <tr>\n",
       "      <th>7</th>\n",
       "      <td>Turkey</td>\n",
       "      <td>8828</td>\n",
       "    </tr>\n",
       "    <tr>\n",
       "      <th>8</th>\n",
       "      <td>España</td>\n",
       "      <td>7015</td>\n",
       "    </tr>\n",
       "    <tr>\n",
       "      <th>9</th>\n",
       "      <td>United States</td>\n",
       "      <td>5879</td>\n",
       "    </tr>\n",
       "    <tr>\n",
       "      <th>10</th>\n",
       "      <td>日本</td>\n",
       "      <td>4224</td>\n",
       "    </tr>\n",
       "  </tbody>\n",
       "</table>\n",
       "</div>"
      ],
      "text/plain": [
       "               _id  total_followers\n",
       "1          Ecuador           120015\n",
       "2            Ελλάς            70331\n",
       "3   United Kingdom            43894\n",
       "4           France            19306\n",
       "5        Australia            11916\n",
       "6           Brasil            10001\n",
       "7           Turkey             8828\n",
       "8           España             7015\n",
       "9    United States             5879\n",
       "10              日本             4224"
      ]
     },
     "execution_count": 10,
     "metadata": {},
     "output_type": "execute_result"
    }
   ],
   "source": [
    "dfr1=pd.DataFrame.from_records(cursor2)\n",
    "dfr1n = dfr1.iloc[1:]\n",
    "dfr1n"
   ]
  },
  {
   "cell_type": "code",
   "execution_count": 9,
   "metadata": {},
   "outputs": [
    {
     "data": {
      "text/plain": [
       "Text(0.5,0,'Name_User Country')"
      ]
     },
     "execution_count": 9,
     "metadata": {},
     "output_type": "execute_result"
    },
    {
     "data": {
      "image/png": "[encoded data removed]",
      "text/plain": [
       "<Figure size 432x288 with 1 Axes>"
      ]
     },
     "metadata": {},
     "output_type": "display_data"
    }
   ],
   "source": [
    "plot2=dfr1n.plot(x=\"_id\", y=\"total_followers\", kind=\"bar\")\n",
    "plot2.xaxis.set_label_text(\"Name_User Country\")"
   ]
  },
  {
   "cell_type": "code",
   "execution_count": 10,
   "metadata": {},
   "outputs": [
    {
     "name": "stdout",
     "output_type": "stream",
     "text": [
      "[{'_id': '방탄소년단', 'total_retweets': 11470247}, {'_id': 'スターライトステージ', 'total_retweets': 5144690}, {'_id': 'c', 'total_retweets': 2976406}, {'_id': 'Jordan Ireland', 'total_retweets': 1851077}, {'_id': 'David Tra', 'total_retweets': 1530645}, {'_id': 'juany', 'total_retweets': 1400217}, {'_id': 'Maria Fernanda', 'total_retweets': 997301}, {'_id': 'BTS_official', 'total_retweets': 959946}, {'_id': 'Aquiles', 'total_retweets': 953754}, {'_id': 'BamBam', 'total_retweets': 895634}]\n"
     ]
    }
   ],
   "source": [
    "#4.Top 10 users with the greatest number of retweets\n",
    "cursor3=tweets.aggregate([\n",
    "    {\"$group\":{\"_id\": \"$retweeted_status.user.name\", \"total_retweets\":{\"$sum\":\"$retweeted_status.retweet_count\"}}},\n",
    "    {\"$sort\":{\"total_retweets\": -1}},\n",
    "    { \"$limit\": 10 }])\n",
    "print(list(cursor3))"
   ]
  },
  {
   "cell_type": "code",
   "execution_count": null,
   "metadata": {},
   "outputs": [],
   "source": []
  }
 ],
 "metadata": {
  "kernelspec": {
   "display_name": "Python 3",
   "language": "python",
   "name": "python3"
  },
  "language_info": {
   "codemirror_mode": {
    "name": "ipython",
    "version": 3
   },
   "file_extension": ".py",
   "mimetype": "text/x-python",
   "name": "python",
   "nbconvert_exporter": "python",
   "pygments_lexer": "ipython3",
   "version": "3.7.3"
  }
 },
 "nbformat": 4,
 "nbformat_minor": 2
}
